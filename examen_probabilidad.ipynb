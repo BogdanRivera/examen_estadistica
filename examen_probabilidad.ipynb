{
  "nbformat": 4,
  "nbformat_minor": 0,
  "metadata": {
    "colab": {
      "provenance": []
    },
    "kernelspec": {
      "name": "python3",
      "display_name": "Python 3"
    },
    "language_info": {
      "name": "python"
    }
  },
  "cells": [
    {
      "cell_type": "markdown",
      "source": [
        "# Tipos de probabilidad (revisión de conceptos)\n",
        "\n",
        "Según lo visto en clase, tenemos tres tipos de probabilidad a definir. Sean A y B dos eventos aleatorios diferentes, entonces:\n",
        "\n",
        "---\n",
        "\n",
        "`Probabilidad conjunta`: sean $A$ y $B$ dos eventos aleatorios diferentes, definimos la probabilidad conjunta de que ambos eventos ocurran por medio de la regla del producto:\n",
        "\n",
        "$$P(A, B) = P(A|B)P(B)$$\n",
        "\n",
        "donde $P(A|B)$ se define como la `probabilidad condicional` de que ocurra A dado B, y $P(B)$ es la probabilidad de que ocurra B (sin conocimiento extra de otras variables).\n",
        "\n",
        "---\n",
        "\n",
        "`Probabilidad marginal`: la probabilidad marginal de A sobre una distribución conjunta de probabilidades en A y B, se define como la suma de todas las probabilidades conjuntas $P(A, B)$ considerando todos los posibles valores de B:\n",
        "\n",
        "$$P(A) = \\sum_{B=b} P(A,B) = \\sum_{B=b} P(A|B) P(B)$$\n",
        "\n",
        "\n",
        "\n",
        "$$P(A|B) = \\frac{P(A∩B)}{P(B)}$$\n",
        "\n",
        "\n",
        "# Ejercicios (bloque 1)\n",
        "Considerando un lanzamiento de un dado y considerando los siguientes eventos aleatorios:\n",
        "A = {el resultado del lanzamiento de un dado es 6}\n",
        "B = {el resultado del lanzamiento de un dado es par}\n",
        "C = {el resultado del lanzamiento de un dado es impar}\n",
        "\n",
        "Calcula las siguientes probabilidades\n",
        "1. P(A|B) = P(6|par) = $\\frac{1/6}{3/6} = \\frac{1}{3} = 33.33\\%$\n",
        "2. P(A|C) = P(6|impar) = $\\frac{0}{3/6} = 0\\%$\n",
        "3. P(B|C) = P(par|impar) = $\\frac{0}{3/6} = 0\\%$\n",
        "\n"
      ],
      "metadata": {
        "id": "dHbxhXF6NGGz"
      }
    },
    {
      "cell_type": "markdown",
      "source": [
        "# Ejercicios (bloque 2)\n",
        "\n",
        "Considerando una ruleta de doce números\n",
        "\n",
        "{$1,2,3,4,5,6,7,8,9,10,11,12$}\n",
        "\n",
        "dos jugadores eligen 6 números, cada uno de ellos. Supón que el jugador 1 elige A = {$1,2,3,4,5,6$} y calcula las siguientes probabilidades:\n",
        "\n",
        "1. $P(A|B)$ sabiendo que el jugador 2 elige B = {$2,4,6,8,10,12$}\n",
        "2. $P(A|B)$ sabiendo que el jugador 2 elige B = {$1,3,5,7,9,11$}\n",
        "3. $P(A|B)$ sabiendo que el jugador 2 elige B = {$5,6,7,8,9,10$}\n",
        "\n",
        "1.$P(A|B)$ = $\\frac{1/4}{1/2} = 0.5 = 50\\%$\n",
        "\n",
        "2.$P(A|B)$ = $\\frac{1/4}{1/2} = 0.5 = 50\\%$\n",
        "\n",
        "3.$P(A|B)$ = $\\frac{1/6}{1/2} = 0.333 = 33.33\\%$"
      ],
      "metadata": {
        "id": "iENzBnIqRR9t"
      }
    },
    {
      "cell_type": "markdown",
      "source": [
        "# Ejercicios (bloque 3)\n",
        "\n",
        "Considera un problema donde se lanzan dos monedas, sean $m_1$ y $m_2$. Verifica la regla del producto para las siguientes probabilidades (dibuja el espacio muestral y calcula cada probabilidad por separado):\n",
        "1. $P(m_1 = \\text{cara}, m_2 = \\text{sello}) = 50\\%$\n",
        "2. $P(m_1 = \\text{cara} | m_2 = \\text{sello}) = 50\\%$\n",
        "3. $P(m_2 = \\text{sello}) = 50\\%$"
      ],
      "metadata": {
        "id": "rNuzqDxQTyYU"
      }
    },
    {
      "cell_type": "markdown",
      "source": [
        "# Distribuciones discretas (e.j. binomial)\n",
        "\n",
        "---\n",
        "\n",
        "\n",
        "\n",
        "Recordando que la distribución binomial está dada por:\n",
        "\n",
        "$$\n",
        "P(k, n; p) = {n \\choose k} p^k (1-p)^{n-k} = \\frac{n!}{k!(n-k)!}p^k (1-p)^{n-k}\n",
        "$$\n",
        "\n",
        "donde $P(k, n; p)$ representa la probabilidad de obtener $k$ éxitos de $n$ intentos con posibilidad **binaria** (por ejemplo, lanzamientos de moneda).\n",
        "\n",
        "`Ejemplo`: la probabilidad de obtener 4 caras a partir de 10 lanzamientos consecutivos de moneda, está dada por (tomando $p=0.5$, por lo tanto $1-p=0.5$):\n",
        "\n",
        "$$\n",
        "P(k=4, n=10; p=0.5) = {10 \\choose 4} \\left( \\frac{1}{2}\\right)^{10} = \\frac{10!}{4!6!} \\left( \\frac{1}{2}\\right)^{10}\n",
        "$$\n",
        "\n",
        "---\n",
        "\n",
        "Ahora, la probabilidad de obtener $k$ o menos éxitos a partir de $n$ intentos está dada por la distribución acumulada:\n",
        "\n",
        "$$\n",
        "C(k, n; p) = \\sum_{i=0}^k P(i, n;p) = \\sum_{i=0}^k {n \\choose i} p^i (1-p)^{n-i}\n",
        "$$\n",
        "\n",
        "Por convención entendemos que:\n",
        "\n",
        "$$C(k=3,n=6;p=0.5) = P(k \\leq 3, n=6, p=0.5 )$$\n",
        "\n",
        "\n",
        "`Ejemplo`: la probabilidad de obtener 3 o menos caras a partir de 6 lanzamientos consecutivos está dada por (tomando $p=0.5$, por lo tanto $1-p=0.5$):\n",
        "\n",
        "$$P(k \\leq 3, n=6;p=0.5) = \\sum_{i=0}^3 {6 \\choose i} \\left(\\frac{1}{2} \\right)^6 $$\n",
        "\n",
        "$$P(k \\leq 3, n=6;p=0.5) = \\left(\\frac{1}{2} \\right)^6 \\sum_{i=0}^3 {6 \\choose i} $$\n",
        "\n",
        "$$P(k \\leq 3, n=6;p=0.5) = \\left(\\frac{1}{2} \\right)^6 \\left\\{ {6 \\choose 0} + {6 \\choose 1} + {6 \\choose 2} + {6 \\choose 3} \\right\\}$$\n"
      ],
      "metadata": {
        "id": "4Ume-QYL8OQd"
      }
    },
    {
      "cell_type": "markdown",
      "source": [
        "# Ejercicios (bloque 1)\n",
        "\n",
        "Calcula a mano las siguientes probabilidades (tomando $p=0.5$, por lo tanto $1-p=0.5$):\n",
        "\n",
        "1. Probabilidad de obtener 3 caras a partir de 12 lanzamientos de moneda. = $\\frac{55}{1024} ≈ 0.053 ≈ 55 \\%$\n",
        "\n",
        "2. Probabilidad de obtener 5 o menos caras a partir de 10 lanzamientos de moneda. $≈0.62≈62\\%$\n",
        "\n",
        "3. Probabilidad de obtener menos de 6 caras a partir de 10 lanzamientos de moneda $≈ 0.62 ≈ 62\\%$.\n",
        "\n",
        "Calcula a mano las mismas probabilidades anteriores pero considerando ahora $p=0.3$.\n",
        "\n",
        "1. P(k=3,n=12,p=0.3) $≈ 0.23 ≈ 23.97\\%$\n",
        "2. P($k≤5,n=10,p=0.3$) $≈0.98≈98\\%$\n",
        "3. P($k<6,n=10,p=0.3$) $≈0.98≈98\\%$"
      ],
      "metadata": {
        "id": "s8SunAYf-UPp"
      }
    },
    {
      "cell_type": "markdown",
      "source": [
        "# Bonus en Python"
      ],
      "metadata": {
        "id": "IwrFfPd9IHib"
      }
    },
    {
      "cell_type": "code",
      "source": [
        "import math as mt\n",
        "# definición de la distribución binomial\n",
        "def my_binomial(k, n, p):\n",
        "  return mt.factorial(n)/(mt.factorial(k)*(mt.factorial(n-k)))*pow(p,k)*pow(1-p, n-k)\n",
        "\n",
        "def my_binomial_acc(k,n,p):\n",
        "  total = 0\n",
        "  for num in range(k):\n",
        "    total += my_binomial(num,n,p)\n",
        "\n",
        "  return total\n"
      ],
      "metadata": {
        "id": "9zzt_QWvVuHv"
      },
      "execution_count": null,
      "outputs": []
    },
    {
      "cell_type": "markdown",
      "source": [
        "Usando la función `my_binomial()`, definida previamente, verifica el cálculo de todas las probabilidades del punto anterior.\n",
        "\n",
        "Ejemplo:\n",
        "\n",
        "$$P(k \\leq 3, n=6, p=0.5)$$\n",
        "\n",
        "Se traduce en :\n",
        "\n",
        "```python\n",
        "total = 0\n",
        "for n in range(4):\n",
        "  total += my_binomial(i,6,0.5)\n",
        "\n",
        "print(total)\n",
        "```"
      ],
      "metadata": {
        "id": "30yaUpWOIMNX"
      }
    },
    {
      "cell_type": "code",
      "source": [
        "# 1.Probabilidad de obtener 3 caras a partir de 12 lanzamientos de moneda.\n",
        "print(\"1. P(X=3) = \",my_binomial(3,12,0.5))\n",
        "# 2 y 3. Probabilidad de obtener 5 o menos(o menos de 6 caras) caras a partir de 10 lanzamientos de moneda.\n",
        "print(\"2-3. P(k≤5,n=10,p=0.5)\", my_binomial_acc(6,10,0.5))\n",
        "\n",
        "#Con P = 0.3\n",
        "print(\"Probabilidad de 0.3\")\n",
        "# 1.Probabilidad de obtener 3 caras a partir de 12 lanzamientos de moneda.\n",
        "print(\"1. P(X=3) = \",my_binomial(3,12,0.3))\n",
        "# 2 y 3. Probabilidad de obtener 5 o menos(o menos de 6 caras) caras a partir de 10 lanzamientos de moneda.\n",
        "print(\"2-3. P(k≤5,n=10,p=0.3)\", my_binomial_acc(6,10,0.3))\n",
        "\n"
      ],
      "metadata": {
        "colab": {
          "base_uri": "https://localhost:8080/"
        },
        "id": "57yD4U-sIJZ8",
        "outputId": "57d9f702-aec6-4e98-b298-6ec311b8c9e5"
      },
      "execution_count": null,
      "outputs": [
        {
          "output_type": "stream",
          "name": "stdout",
          "text": [
            "1. P(X=3) =  0.0537109375\n",
            "2-3. P(k≤5,n=10,p=0.5) 0.623046875\n",
            "Probabilidad de 0.3\n",
            "1. P(X=3) =  0.23970042557999985\n",
            "2-3. P(k≤5,n=10,p=0.3) 0.9526510125999994\n"
          ]
        }
      ]
    },
    {
      "cell_type": "markdown",
      "source": [
        "# Distribuciones continuas (e.j. gaussiana)\n",
        "\n",
        "Recordemos que la distribución de probabilidad normal o gaussiana está dada por:\n",
        "\n",
        "$$P(X) = \\frac{1}{\\sigma \\sqrt{2 \\pi}} \\exp{\\left[-\\frac{1}{2}\\left(\\frac{X-\\mu}{\\sigma} \\right)^2 \\right]}$$\n",
        "\n",
        "donde:\n",
        "\n",
        "* $\\mu$: media de la distribución\n",
        "* $\\sigma$: desviación estandar de la distribución\n",
        "\n",
        "`Ejemplo`: considerando una variable aleatoria que sigue una distribución normal con media $\\mu=4$ y desviación estándar $\\sigma=0.3$, la probabilidad de que dicha variable tome el valor de $0.2$ está dada por:\n",
        "\n",
        "$$P(0.2) =  \\frac{1}{0.3 \\sqrt{2 \\pi}} \\exp{\\left[-\\frac{1}{2}\\left(\\frac{0.2-4}{0.3} \\right)^2 \\right]}$$\n",
        "\n",
        "Lo cual en Python se traduce en:\n",
        "\n",
        "```python\n",
        "from scipy.stats import norm\n",
        "\n",
        "norm(mu, sigma).pdf(X)\n",
        "```\n",
        "\n",
        "---\n",
        "\n",
        "Así también, la distribucion de probabilidad acumulada correspondiente está dada por:\n",
        "\n",
        "$$C(X) = \\int_{x<=X} P(x)dx = \\int_{- \\infty}^xP(X)dX $$\n",
        "\n",
        "teniendo en cuenta que $Dom(X) = (-\\infty, \\infty)$.\n",
        "\n",
        "`Ejemplo`: considerando una variable aleatoria que sigue una distribucion normal con media $\\mu=4$ y desviación estándar $\\sigma=0.3$, la probabilidad de que dicha variable tome el valor de $0.2$ o menos está dada por:\n",
        "\n",
        "$$C(0.2) = \\int_{x<=0.2} P(x)dx = \\int_{- \\infty}^{0.2}  \\left\\{\\frac{1}{0.3 \\sqrt{2 \\pi}} \\exp{\\left[-\\frac{1}{2}\\left(\\frac{X-4}{0.3} \\right)^2 \\right]} \\right\\} dX $$\n",
        "\n",
        "La cual se calcula en Python como:\n",
        "\n",
        "```python\n",
        "from scipy.stats import norm\n",
        "\n",
        "norm(mu, sigma).cdf(X)\n",
        "```\n",
        "\n",
        "_**Es importante recordar que la función de probabilidad acumulada de la distribución gaussiana no se puede calcular de forma exacta, ya que la integral anterior no tiene una expresión cerrada conocida. Es decir, los métodos de integración conocidos no funcionan para resolver esta integral.**_"
      ],
      "metadata": {
        "id": "MejjafMMbtxY"
      }
    },
    {
      "cell_type": "markdown",
      "source": [
        "# Ejercicios (bloque 1)\n",
        "\n",
        "Considerando una variable aleatoria que sigue una distribución normal con media $\\mu=4$ y desviación estándar $\\sigma=0.1$, calcula las siguientes probabilidades (usando Python):\n",
        "\n",
        "1. $P(X=4)$\n",
        "2. $P(X=-10)$\n",
        "3. $P(X=10)$\n",
        "4. $P(X<=4)$\n",
        "6. $P(X>=4)$"
      ],
      "metadata": {
        "id": "x1hgma-CdC5D"
      }
    },
    {
      "cell_type": "code",
      "source": [
        "from scipy.stats import norm\n",
        "mu = 4\n",
        "sigma = 0.1\n",
        "# Ejercicio 1:\n",
        "print(\"1. P(X=4): \",0.0)\n",
        "#Ejercicio 2:\n",
        "print(\"2. P(X=-10): \",norm(mu,sigma).pdf(-10))\n",
        "#Ejercicio 3:\n",
        "print(\"3. P(X=10): \",norm(mu,sigma).pdf(10))\n",
        "#Ejercicio 4:\n",
        "print(\"4. P(X<=4): \",norm(mu,sigma).cdf(4))\n",
        "#Ejercicio 5:\n",
        "print(\"4. P(X>=4): \",1- norm(mu,sigma).cdf(4))"
      ],
      "metadata": {
        "colab": {
          "base_uri": "https://localhost:8080/"
        },
        "id": "JbHTyWaJdFRQ",
        "outputId": "dc44502d-0e7d-45e5-e101-c3ae7b6f1575"
      },
      "execution_count": null,
      "outputs": [
        {
          "output_type": "stream",
          "name": "stdout",
          "text": [
            "1. P(X=4):  0.0\n",
            "2. P(X=-10):  0.0\n",
            "3. P(X=10):  0.0\n",
            "4. P(X<=4):  0.5\n",
            "4. P(X>=4):  0.5\n"
          ]
        }
      ]
    },
    {
      "cell_type": "markdown",
      "source": [
        "# De la binomial a la gaussiana\n",
        "\n",
        "En la clase 8 vimos como generar secuencias aleatorias de experimentos binomiales ([aquí](https://colab.research.google.com/drive/1MR9VZg19vHyZhvWWuxtNcy_3PZQ7AfwW?usp=sharing)), donde cada experimento era lanzar un cierto número de monedas.\n",
        "\n",
        "**¿Qué sucede si el número consecutivo de monedas que lanzamos en cada experimento (trial) es muy largo?**\n",
        "\n",
        "La función `generate_binomial_trials()` nos muestra lo que sucede si graficamos los resultados de muchos experimentos de lanzar 100 monedas en cada intento, con pyplot:"
      ],
      "metadata": {
        "id": "a-I4WH9FcvfX"
      }
    },
    {
      "cell_type": "code",
      "source": [
        "import numpy as np\n",
        "from numpy.random import binomial\n",
        "import matplotlib.pyplot as plt\n",
        "def generate_binomial_trials(trials=1000, coin_toss=100):\n",
        "  '''\n",
        "  el resultado de esta funcion es generar un conjuntos\n",
        "  de experimentos binomiales (trials) y de cada uno obtener\n",
        "  las cantidades de exitos en cada secuencia (e.j. lanzar monedas).\n",
        "\n",
        "  * trial: es una secuencia de <coin_toss> lanzamientos de moneda\n",
        "\n",
        "  * coin_toss: es el numero de monedas lanzadas en cada trial\n",
        "  '''\n",
        "  arr = []\n",
        "  for _ in range(trials):\n",
        "    arr.append(binomial(coin_toss, 0.5))\n",
        "  values, dist = np.unique(arr, return_counts=True)\n",
        "\n",
        "  return values, dist, arr\n",
        "\n",
        "values, dist, arr = generate_binomial_trials(100000)\n",
        "plt.bar(values, dist)"
      ],
      "metadata": {
        "colab": {
          "base_uri": "https://localhost:8080/",
          "height": 447
        },
        "id": "F6q3_LEZJOB6",
        "outputId": "37e9ec88-e420-4b70-a89b-0c814410e9c9"
      },
      "execution_count": null,
      "outputs": [
        {
          "output_type": "execute_result",
          "data": {
            "text/plain": [
              "<BarContainer object of 44 artists>"
            ]
          },
          "metadata": {},
          "execution_count": 55
        },
        {
          "output_type": "display_data",
          "data": {
            "text/plain": [
              "<Figure size 640x480 with 1 Axes>"
            ],
            "image/png": "[encoded data removed]"
          },
          "metadata": {}
        }
      ]
    },
    {
      "cell_type": "markdown",
      "source": [
        "¿Se parece a algo conocido? Tal vez una ditribución normal se ajuste, para verificarlo haremos el siguiente ejercicio:\n",
        "\n",
        "# Ejercicios (bloque 2)\n",
        "\n",
        "1. Con los resultados anteriores guardados en `values, dist` ajusta, usando el método de estimación paramétrica, una distribución gaussiana donde la media y desviación estándar correspondan a lo calculado a partir de los datos, de la misma manera que se hizo en el notebook de la clase 9 ([aquí](https://colab.research.google.com/drive/1weFtkmxdn_WnGW582Xugj9t7Mjzxis5b?usp=sharing))."
      ],
      "metadata": {
        "id": "2dOS6XvTh55L"
      }
    },
    {
      "cell_type": "code",
      "source": [
        "from scipy.stats import norm\n",
        "mu = np.mean(arr)\n",
        "sigma = np.std(arr)\n",
        "dist_r = norm(mu,sigma)\n",
        "X = np.arange(30,70,0.1)\n",
        "Y = [dist_r.pdf(x) for x in X]\n",
        "plt.plot(X, Y)\n",
        "plt.bar(values, dist/len(arr))"
      ],
      "metadata": {
        "colab": {
          "base_uri": "https://localhost:8080/",
          "height": 447
        },
        "id": "X-j2IXw1c7OA",
        "outputId": "44940399-f0b6-4d8e-f1dc-fd6868ef93ef"
      },
      "execution_count": null,
      "outputs": [
        {
          "output_type": "execute_result",
          "data": {
            "text/plain": [
              "<BarContainer object of 44 artists>"
            ]
          },
          "metadata": {},
          "execution_count": 57
        },
        {
          "output_type": "display_data",
          "data": {
            "text/plain": [
              "<Figure size 640x480 with 1 Axes>"
            ],
            "image/png": "[encoded data removed]"
          },
          "metadata": {}
        }
      ]
    },
    {
      "cell_type": "markdown",
      "source": [
        "Si todo salió bien, habrás notado que en efecto una distribución normal se ajusta perfectamente a los datos. Esto se conoce como el **teorema del límite central**, el cual establece que en muchas situaciones conocidas, cuando variables aleatorias independientes se combinan, su total tiende a seguir una distribución normal cuando el número de variables que se combinan es muy grande $n \\rightarrow \\infty$."
      ],
      "metadata": {
        "id": "ZTtnjc2Cta8u"
      }
    },
    {
      "cell_type": "markdown",
      "source": [
        "# Estimación de máxima verosimilitud\n",
        "\n",
        "Como ya vimos, esta técnica, cuyas siglas en inglés son MLE (maximum likelihood estimation), nos permite encontrar la distribución de probabilidad que mejor estima un cierto conjunto de datos. Para ello consideramos dos pasos:\n",
        "\n",
        "1. Escogemos una distribución $P(X; \\theta)$, con un conjunto de parámetros $\\theta$, dado un conjunto de datos $X$.\n",
        "\n",
        "2. Seleccionamos los valores de los parámetros $\\theta = \\hat{\\theta}$ que mejor ajustan los datos siguiendo la premisa que serán aquellos tales que:\n",
        "\n",
        "$$\n",
        "P(X, \\theta) = L(X, \\hat{\\theta}) = \\max_{\\theta} \\left\\{ L(X, \\theta) \\right\\}\n",
        "$$\n",
        "\n",
        "Así pues, consideremos un conjunto de datos ${x_i}$ como el siguiente, el cual trabajamos en una clase pasada:"
      ],
      "metadata": {
        "id": "QD6IFhfwZYC-"
      }
    },
    {
      "cell_type": "code",
      "source": [
        "import pandas as pd\n",
        "import numpy as np\n",
        "import matplotlib.pyplot as plt\n",
        "\n",
        "# recuerda que este archivo lo puedes bajar de: https://seattlecentral.edu/qelp/sets/057/057.html\n",
        "df = pd.read_excel('s057.xls')\n",
        "arr = df['Normally Distributed Housefly Wing Lengths'].values[4:]\n",
        "values, dist = np.unique(arr, return_counts=True)\n",
        "print(values)\n",
        "plt.bar(values, dist)"
      ],
      "metadata": {
        "id": "xLKHJx09ibUI",
        "colab": {
          "base_uri": "https://localhost:8080/",
          "height": 465
        },
        "outputId": "f2552e92-e987-4a86-db95-ccb7578ed630"
      },
      "execution_count": 10,
      "outputs": [
        {
          "output_type": "stream",
          "name": "stdout",
          "text": [
            "[37 38 39 40 41 42 43 44 45 46 47 48 49 50 51 52 53 54 55]\n"
          ]
        },
        {
          "output_type": "execute_result",
          "data": {
            "text/plain": [
              "<BarContainer object of 19 artists>"
            ]
          },
          "metadata": {},
          "execution_count": 10
        },
        {
          "output_type": "display_data",
          "data": {
            "text/plain": [
              "<Figure size 640x480 with 1 Axes>"
            ],
            "image/png": "[encoded data removed]"
          },
          "metadata": {}
        }
      ]
    },
    {
      "cell_type": "markdown",
      "source": [
        "Si buscamos la distribución que mejor ajuste los datos, lo más razonable es pensar en una gaussiana o normal, y como ya se mostró en una notebook anterior, la distribucion gaussiana ajusta muy bien estos datos. En esta notebook veremos otra cara de la moneda sobre este mismo ejercicio.\n",
        "\n",
        "---\n",
        "# RETO\n",
        "Usando MLE vas a demostrar que si asumimos que los datos vienen descritos por una función gaussiana:\n",
        "\n",
        "$$\n",
        "P(X;\\theta)=P(X;\\mu, \\sigma) = \\frac{1}{\\sigma \\sqrt{2 \\pi}} \\exp{\\left[-\\frac{1}{2}\\left(\\frac{X-\\mu}{\\sigma} \\right)^2 \\right]}\n",
        "$$\n",
        "\n",
        "Entonces los parámetros que mejor ajustan los datos ${x_i}$ de la celda anterior están dados por:\n",
        "\n",
        "$$\n",
        "\\mu = \\frac{1}{n} \\sum_i^n x_i\n",
        "$$\n",
        "\n",
        "$$\n",
        "\\sigma^2 = \\frac{1}{n}\\sum_i^n (x_i-\\mu)^2\n",
        "$$\n",
        "\n",
        "donde *n* es la cantidad de datos.\n",
        "\n",
        "---\n",
        "\n",
        "# Paso a paso (a mano)\n",
        "\n",
        "## 1) Escribe la verosimilitud (likelihood)\n",
        "Considera que en este caso asumimos que cada punto sigue una distribución normal\n",
        "\n",
        "$$\n",
        "L(X;\\theta) = \\prod_i^n P(x_i;\\theta)\n",
        "$$\n",
        "\n",
        "y por lo tanto la verosimilitud está dada por:\n",
        "\n",
        "$$\n",
        "L(X;\\mu, \\sigma) = L(\\mu, \\sigma) = \\prod_i^n \\frac{1}{\\sqrt{2 \\pi \\sigma^2}} \\exp{\\left\\{ \\frac{-1}{2\\sigma^2}(x_i - \\mu)^2 \\right\\}}\n",
        "$$\n",
        "\n",
        "## 2) Calcula las ecuaciones del valor máximo\n",
        "\n",
        "Usando MLE se deben calcular los parámetros que conduzcan al máximo de probabilidad:\n",
        "\n",
        "$$\n",
        "\\max L(\\mu, \\sigma) \\rightarrow \\max \\log L(\\mu, \\sigma)\n",
        "$$\n",
        "\n",
        "donde consideramos el logaritmo de la verosimilitud. Demuestra que esto equivale a:\n",
        "\n",
        "$$\n",
        "\\max L(\\mu, \\sigma) = \\min \\left( n \\log \\sigma + \\frac{1}{2 \\sigma^2} \\sum_i (x_i - \\mu)^2 \\right)\n",
        "$$\n",
        "\n",
        "Esto equivale a encontrar el minimo de la función:\n",
        "\n",
        "\n",
        "$$f(\\mu, \\sigma) = n \\log \\sigma + \\frac{1}{2 \\sigma^2} \\sum_i (x_i - \\mu)^2$$\n",
        "\n",
        "lo cual se hace derivando parcialmente la función respecto a ambas variables e igualando a cero.\n",
        "\n",
        "$$\n",
        "\\frac{\\partial L}{\\partial \\mu} = 0\n",
        "$$\n",
        "\n",
        "$$\n",
        "\\frac{\\partial L}{\\partial \\sigma} = 0\n",
        "$$\n",
        "\n",
        "## 3) Resuelve el sistema de ecuaciones resultante\n",
        "\n",
        "Al final habrás obtenido un par de ecuaciones cuyas incógnitas son los parámetros:\n",
        "\n",
        "$$\n",
        "\\frac{-2}{\\sigma^2}\\sum_i (x_i - \\mu) = 0\n",
        "$$\n",
        "$$\n",
        "\\frac{n}{\\sigma} - \\frac{1}{\\sigma^3}\\sum_i (x_i - \\mu)^2 = 0\n",
        "$$\n",
        "\n",
        "Resuélvelas y habrás llegado a las fórmulas indicadas previamente para los parámetros óptimos.\n",
        "\n",
        "**¿No son estas justamente las definiciones típicas de la media y la desviación estándar para un conjunto de datos?**\n",
        "\n",
        "¡Sí, así es! Esto indica que justamente los parámetros son óptimos cuando la desviación estándar y media de los datos coinciden con aquellas de la distribucion gaussiana."
      ],
      "metadata": {
        "id": "E1YRKlqyZ6sB"
      }
    },
    {
      "cell_type": "markdown",
      "source": [
        "---\n",
        "\n",
        "# Comprobación numérica\n",
        "\n",
        "Vamos ahora a hacer una comprobación numérica de que esos parámetros efectivamente ajustan de manera óptima los datos. Construye funciones en Python que te permitan calcular directamente los parámetros óptimos según las ecuaciones encontradas:\n",
        "\n",
        "\n",
        "$$\n",
        "\\mu = \\frac{1}{n} \\sum_i^n x_i\n",
        "$$\n",
        "\n",
        "$$\n",
        "\\sigma^2 = \\frac{1}{n}\\sum_i^n (x_i-\\mu)^2\n",
        "$$"
      ],
      "metadata": {
        "id": "sVBMEW9MbC-y"
      }
    },
    {
      "cell_type": "code",
      "source": [
        "## parámetros optimos a partir del cálculo con MLE\n",
        "## completa con tu código aquí:\n",
        "\n",
        "def optimal_mu(arr=arr):\n",
        "  mu_opt = 0\n",
        "  for i in arr:\n",
        "    mu_opt += (1/len(arr))*i\n",
        "\n",
        "  return mu_opt\n",
        "\n",
        "def optimal_sigma(arr=arr):\n",
        "  s_optimo = 0\n",
        "  mu = np.mean(arr)\n",
        "  for i in arr:\n",
        "    s_optimo += (1/len(arr))*pow((i - mu),2)\n",
        "\n",
        "  return np.sqrt(s_optimo)"
      ],
      "metadata": {
        "id": "_hufcVErZiY_"
      },
      "execution_count": 33,
      "outputs": []
    },
    {
      "cell_type": "code",
      "source": [
        "print(optimal_mu(), arr.mean())\n",
        "print(optimal_sigma(), arr.std())"
      ],
      "metadata": {
        "colab": {
          "base_uri": "https://localhost:8080/"
        },
        "id": "Pm9pTc-QZ5ZD",
        "outputId": "8468e3bc-8ad6-4615-905c-0ae44dbaacfa"
      },
      "execution_count": 34,
      "outputs": [
        {
          "output_type": "stream",
          "name": "stdout",
          "text": [
            "45.59595959595957 45.5959595959596\n",
            "3.800369976458012 3.8003699764580126\n"
          ]
        }
      ]
    },
    {
      "cell_type": "code",
      "source": [
        "from scipy.stats import norm\n",
        "\n",
        "values, dist = np.unique(arr, return_counts=True)\n",
        "plt.bar(values, dist/len(arr))\n",
        "\n",
        "dist = norm(optimal_mu(), optimal_sigma())\n",
        "x = np.arange(30, 60, 0.1)\n",
        "y = [dist.pdf(value) for value in x]\n",
        "plt.plot(x,y)"
      ],
      "metadata": {
        "colab": {
          "base_uri": "https://localhost:8080/",
          "height": 447
        },
        "id": "3FI9_1HmbJUG",
        "outputId": "3151ca25-3fb3-4008-a081-f277c993b945"
      },
      "execution_count": 35,
      "outputs": [
        {
          "output_type": "execute_result",
          "data": {
            "text/plain": [
              "[<matplotlib.lines.Line2D at 0x7e4f2d569b10>]"
            ]
          },
          "metadata": {},
          "execution_count": 35
        },
        {
          "output_type": "display_data",
          "data": {
            "text/plain": [
              "<Figure size 640x480 with 1 Axes>"
            ],
            "image/png": "[encoded data removed]"
          },
          "metadata": {}
        }
      ]
    },
    {
      "cell_type": "markdown",
      "source": [
        "Como te habrás dado cuenta los valores óptimos de los parámetros coinciden perfectamente con las definiciones de media y desviación estándar, así como sus contrapartes en Numpy `arr.mean()`  y `arr.std()`.\n"
      ],
      "metadata": {
        "id": "-qwvxwrdbQD3"
      }
    },
    {
      "cell_type": "markdown",
      "source": [
        "# Ejemplo con clasificador de Naive Bayes\n",
        "\n",
        "Consideremos un conjunto de datos artificial sobre el cual podamos probar un clasificador de Naive Bayes:"
      ],
      "metadata": {
        "id": "ixOsrlmufNKL"
      }
    },
    {
      "cell_type": "code",
      "source": [
        "from sklearn.datasets import make_blobs\n",
        "import matplotlib.pyplot as plt\n",
        "import numpy as np\n",
        "from scipy.stats import norm\n",
        "\n",
        "X, y = make_blobs(n_samples=10000, centers=2, n_features=2, random_state=1)\n",
        "\n",
        "# esta función ajusta una gausiana\n",
        "# a un conjunto 'data'\n",
        "def fit_distribution(data):\n",
        "  mu = data.mean()\n",
        "  sigma = data.std()\n",
        "  dist = norm(mu, sigma)\n",
        "  return dist\n",
        "plt.scatter(X[y==1][:,0], X[y==1][:,1], label = '1', color='red')\n",
        "plt.scatter(X[y==0][:,0], X[y==0][:,1], label = '0', color = 'blue')\n",
        "plt.legend()"
      ],
      "metadata": {
        "colab": {
          "base_uri": "https://localhost:8080/",
          "height": 447
        },
        "id": "uh3OBybZbLki",
        "outputId": "9f94cee3-c87b-4582-b12a-b804ce89f96a"
      },
      "execution_count": 46,
      "outputs": [
        {
          "output_type": "execute_result",
          "data": {
            "text/plain": [
              "<matplotlib.legend.Legend at 0x7e4f2c7d1d20>"
            ]
          },
          "metadata": {},
          "execution_count": 46
        },
        {
          "output_type": "display_data",
          "data": {
            "text/plain": [
              "<Figure size 640x480 with 1 Axes>"
            ],
            "image/png": "[encoded data removed]"
          },
          "metadata": {}
        }
      ]
    },
    {
      "cell_type": "markdown",
      "source": [
        "Consideramos un modelo de clasificacion de Naive Bayes:\n",
        "\n",
        "$$\n",
        "P(c \\vert x) = P(x \\vert c)P(c)\n",
        "$$\n",
        "\n",
        "donde $P(c)$ es la probabilidad prior dada una clase $c$ y $P(x\\vert c)$ es la verosimilitud de $x$ dada la una clase $c$, con Naive Bayes esto resulta en:\n",
        "\n",
        "$$\n",
        "P(c \\vert x) = P(c)\\prod_iP(x_i \\vert c)\n",
        "$$\n",
        "\n",
        "Lo cual para nuestro caso (`n_features=2`) se traduce en:\n",
        "\n",
        "$$\n",
        "P(c \\vert x) = \\underbrace{P(c)}_{\\text{prior}} \\underbrace{P(x_0 \\vert c) P(x_1 \\vert c)}_{\\text{likelihood}}\n",
        "$$"
      ],
      "metadata": {
        "id": "DMFn9eOKfTxU"
      }
    },
    {
      "cell_type": "code",
      "source": [
        "# calculamos priors\n",
        "def prior(c):\n",
        "  return len(X[y==c])/len(X)\n",
        "\n",
        "# tenemos cuatro posibles distribuciones a ajustar (verosimilitud)\n",
        "def distX0(c):\n",
        "  if c==0:\n",
        "    return fit_distribution(X[y==0][:,0])\n",
        "  elif c==1:\n",
        "    return fit_distribution(X[y==1][:,0])\n",
        "\n",
        "def distX1(c):\n",
        "  if c==0:\n",
        "    return fit_distribution(X[y==0][:,1])\n",
        "  elif c==1:\n",
        "    return fit_distribution(X[y==1][:,1])\n",
        "\n",
        "# verosimilitud\n",
        "def likelihood(X, c):\n",
        "  return distX0(c).pdf(X[0])*distX1(c).pdf(X[1])\n",
        "\n",
        "# posterior\n",
        "def probability(c, X):\n",
        "  return prior(c)*likelihood(X,c)\n",
        "\n",
        "predictions = [np.argmax([probability(0, vector), probability(1, vector)]) for vector in X]"
      ],
      "metadata": {
        "id": "eGsoI4W0fQnq"
      },
      "execution_count": 37,
      "outputs": []
    },
    {
      "cell_type": "markdown",
      "source": [
        "Al final la distribución posterior nos da la probabilidad de que un dato `X` corresponda a una clase `c`. Luego de esto evaluamos el ajuste del modelo de clasificación al dataset artificial con una matriz de confusión:"
      ],
      "metadata": {
        "id": "jrFB3Gf2fbCR"
      }
    },
    {
      "cell_type": "code",
      "source": [
        "from sklearn.metrics import confusion_matrix\n",
        "confusion_matrix(y, predictions)"
      ],
      "metadata": {
        "colab": {
          "base_uri": "https://localhost:8080/"
        },
        "id": "xHKTqhuLfYA7",
        "outputId": "eeb35999-becc-4a03-ffdb-68508422adef"
      },
      "execution_count": 38,
      "outputs": [
        {
          "output_type": "execute_result",
          "data": {
            "text/plain": [
              "array([[5000,    0],\n",
              "       [   0, 5000]])"
            ]
          },
          "metadata": {},
          "execution_count": 38
        }
      ]
    },
    {
      "cell_type": "markdown",
      "source": [
        "Donde vemos que la distribución ajusta perfectamente los datos, de lo cual podemos también estimar la clase para otros puntos que no estaban inicialmente en el dataset:"
      ],
      "metadata": {
        "id": "e-L7c99wfe02"
      }
    },
    {
      "cell_type": "code",
      "source": [
        "def class_distribution(x, y):\n",
        "  return np.argmax([probability(0, [x,y]), probability(1, [x,y])])\n",
        "\n",
        "class_distribution(-6, 0)"
      ],
      "metadata": {
        "colab": {
          "base_uri": "https://localhost:8080/"
        },
        "id": "lTdCp6_bfdAy",
        "outputId": "4c5e1d21-7189-4b7f-831c-6e58012c9528"
      },
      "execution_count": 39,
      "outputs": [
        {
          "output_type": "execute_result",
          "data": {
            "text/plain": [
              "1"
            ]
          },
          "metadata": {},
          "execution_count": 39
        }
      ]
    },
    {
      "cell_type": "code",
      "source": [
        "class_distribution(-4, 0)"
      ],
      "metadata": {
        "colab": {
          "base_uri": "https://localhost:8080/"
        },
        "id": "R5HmRLDwfhiP",
        "outputId": "cf7e8c1c-6139-4f08-f748-197547ae5dba"
      },
      "execution_count": 40,
      "outputs": [
        {
          "output_type": "execute_result",
          "data": {
            "text/plain": [
              "0"
            ]
          },
          "metadata": {},
          "execution_count": 40
        }
      ]
    },
    {
      "cell_type": "code",
      "source": [
        "plt.scatter(X[y==1][:,0], X[y==1][:,1], label = '1', color='red', marker = '*')\n",
        "plt.scatter(X[y==0][:,0], X[y==0][:,1], label = '0', color = 'blue', marker='*')\n",
        "plt.scatter(-6, 0, color = 'red', marker='s', s=53)\n",
        "plt.scatter(-4, 0, color = 'blue', marker='s', s=53)\n",
        "plt.legend()"
      ],
      "metadata": {
        "colab": {
          "base_uri": "https://localhost:8080/",
          "height": 447
        },
        "id": "sGKREnEEfi7q",
        "outputId": "e7fd69cb-5de2-4558-d260-c185dd054e44"
      },
      "execution_count": 41,
      "outputs": [
        {
          "output_type": "execute_result",
          "data": {
            "text/plain": [
              "<matplotlib.legend.Legend at 0x7e4f2cbbba90>"
            ]
          },
          "metadata": {},
          "execution_count": 41
        },
        {
          "output_type": "display_data",
          "data": {
            "text/plain": [
              "<Figure size 640x480 with 1 Axes>"
            ],
            "image/png": "[encoded data removed]"
          },
          "metadata": {}
        }
      ]
    },
    {
      "cell_type": "markdown",
      "source": [
        "En este plot anterior se evidencia cómo el clasificador basado en una distribución posterior puede clasificar puntos que no estaban en el conjunto de datos inicial (puntos con forma de cuadrado), permitiendo de esta manera extrapolar las funciones de clasificación mas allá de los datos iniciales."
      ],
      "metadata": {
        "id": "N3FAJKcvfmJD"
      }
    },
    {
      "cell_type": "code",
      "source": [],
      "metadata": {
        "id": "ELl7u2EwfkWW"
      },
      "execution_count": null,
      "outputs": []
    }
  ]
}